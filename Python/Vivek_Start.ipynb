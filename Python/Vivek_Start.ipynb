{
 "cells": [
  {
   "cell_type": "code",
   "execution_count": 2,
   "id": "7b2f99c3-e285-40ee-99d0-979b8f48757b",
   "metadata": {},
   "outputs": [
    {
     "name": "stdout",
     "output_type": "stream",
     "text": [
      "I got the Data Scientist job with 60LPA package in Delhi and persuing that in efficient way. Thank you GOD!!\n"
     ]
    }
   ],
   "source": [
    "print(\"I got the Data Scientist job with 60LPA package in Delhi and persuing that in efficient way. Thank you GOD!!\")"
   ]
  },
  {
   "cell_type": "code",
   "execution_count": 3,
   "id": "11748ea4-9efb-4321-a585-9ff4d9c9abd8",
   "metadata": {},
   "outputs": [
    {
     "name": "stdout",
     "output_type": "stream",
     "text": [
      "Bring perfect charm reach job now done\n"
     ]
    }
   ],
   "source": [
    "print(\"Bring perfect charm reach job now done\")"
   ]
  },
  {
   "cell_type": "code",
   "execution_count": null,
   "id": "17df3659-d199-4b76-a011-a71594321b35",
   "metadata": {},
   "outputs": [],
   "source": []
  }
 ],
 "metadata": {
  "kernelspec": {
   "display_name": "Python 3 (ipykernel)",
   "language": "python",
   "name": "python3"
  },
  "language_info": {
   "codemirror_mode": {
    "name": "ipython",
    "version": 3
   },
   "file_extension": ".py",
   "mimetype": "text/x-python",
   "name": "python",
   "nbconvert_exporter": "python",
   "pygments_lexer": "ipython3",
   "version": "3.11.7"
  }
 },
 "nbformat": 4,
 "nbformat_minor": 5
}
